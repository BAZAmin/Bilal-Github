{
 "cells": [
  {
   "cell_type": "code",
   "execution_count": 50,
   "id": "79412fcb",
   "metadata": {},
   "outputs": [
    {
     "name": "stdout",
     "output_type": "stream",
     "text": [
      "Hello, World!\n"
     ]
    }
   ],
   "source": [
    "A = \"Hello, World!\"\n",
    "print (A)"
   ]
  },
  {
   "cell_type": "code",
   "execution_count": 51,
   "id": "008c7f90",
   "metadata": {},
   "outputs": [
    {
     "data": {
      "text/plain": [
       "6.0"
      ]
     },
     "execution_count": 51,
     "metadata": {},
     "output_type": "execute_result"
    }
   ],
   "source": [
    "x = 2.5\n",
    "y = 3.5\n",
    "\n",
    "z = x + y \n",
    "z"
   ]
  },
  {
   "cell_type": "code",
   "execution_count": 52,
   "id": "41ec2e36",
   "metadata": {},
   "outputs": [
    {
     "name": "stdout",
     "output_type": "stream",
     "text": [
      "6.0\n"
     ]
    }
   ],
   "source": [
    "print(z)"
   ]
  },
  {
   "cell_type": "code",
   "execution_count": 53,
   "id": "f454f345",
   "metadata": {},
   "outputs": [
    {
     "data": {
      "text/plain": [
       "8.5"
      ]
     },
     "execution_count": 53,
     "metadata": {},
     "output_type": "execute_result"
    }
   ],
   "source": [
    "n = z + x\n",
    "n"
   ]
  },
  {
   "cell_type": "code",
   "execution_count": 54,
   "id": "87d66a14",
   "metadata": {},
   "outputs": [
    {
     "data": {
      "text/plain": [
       "1200"
      ]
     },
     "execution_count": 54,
     "metadata": {},
     "output_type": "execute_result"
    }
   ],
   "source": [
    "a = 60\n",
    "b = 20\n",
    "c = a*b\n",
    "d = a-b\n",
    "f = a/b\n",
    "c"
   ]
  },
  {
   "cell_type": "code",
   "execution_count": 55,
   "id": "a8ffc8c9",
   "metadata": {},
   "outputs": [
    {
     "data": {
      "text/plain": [
       "40"
      ]
     },
     "execution_count": 55,
     "metadata": {},
     "output_type": "execute_result"
    }
   ],
   "source": [
    "d"
   ]
  },
  {
   "cell_type": "code",
   "execution_count": 56,
   "id": "708beee5",
   "metadata": {},
   "outputs": [
    {
     "data": {
      "text/plain": [
       "3.0"
      ]
     },
     "execution_count": 56,
     "metadata": {},
     "output_type": "execute_result"
    }
   ],
   "source": [
    "f"
   ]
  },
  {
   "cell_type": "code",
   "execution_count": 57,
   "id": "959d02d1",
   "metadata": {},
   "outputs": [
    {
     "name": "stdout",
     "output_type": "stream",
     "text": [
      "1200\n"
     ]
    }
   ],
   "source": [
    "print(c)"
   ]
  },
  {
   "cell_type": "code",
   "execution_count": 58,
   "id": "925f62a7",
   "metadata": {},
   "outputs": [
    {
     "data": {
      "text/plain": [
       "25"
      ]
     },
     "execution_count": 58,
     "metadata": {},
     "output_type": "execute_result"
    }
   ],
   "source": [
    "n = 5**2\n",
    "n"
   ]
  },
  {
   "cell_type": "code",
   "execution_count": 59,
   "id": "f7a5e02a",
   "metadata": {},
   "outputs": [
    {
     "data": {
      "text/plain": [
       "-440"
      ]
     },
     "execution_count": 59,
     "metadata": {},
     "output_type": "execute_result"
    }
   ],
   "source": [
    "m = a-b*5**2\n",
    "m"
   ]
  },
  {
   "cell_type": "code",
   "execution_count": 60,
   "id": "2b0cbb6d",
   "metadata": {},
   "outputs": [
    {
     "name": "stdout",
     "output_type": "stream",
     "text": [
      "1\n",
      "2\n",
      "3\n",
      "4\n",
      "5\n",
      "6\n",
      "7\n",
      "8\n",
      "9\n",
      "10\n",
      "11\n",
      "12\n",
      "13\n",
      "14\n",
      "15\n",
      "16\n",
      "17\n",
      "18\n",
      "19\n",
      "20\n",
      "21\n",
      "22\n",
      "23\n",
      "24\n",
      "25\n",
      "26\n",
      "27\n",
      "28\n",
      "29\n",
      "30\n",
      "31\n",
      "32\n",
      "33\n",
      "34\n",
      "35\n",
      "36\n",
      "37\n",
      "38\n",
      "39\n",
      "40\n",
      "41\n",
      "42\n",
      "43\n",
      "44\n",
      "45\n",
      "46\n",
      "47\n",
      "48\n",
      "49\n",
      "50\n",
      "51\n",
      "52\n",
      "53\n",
      "54\n",
      "55\n",
      "56\n",
      "57\n",
      "58\n",
      "59\n",
      "60\n",
      "61\n",
      "62\n",
      "63\n",
      "64\n",
      "65\n",
      "66\n",
      "67\n",
      "68\n",
      "69\n",
      "70\n",
      "71\n",
      "72\n",
      "73\n",
      "74\n",
      "75\n",
      "76\n",
      "77\n",
      "78\n",
      "79\n",
      "80\n",
      "81\n",
      "82\n",
      "83\n",
      "84\n",
      "85\n",
      "86\n",
      "87\n",
      "88\n",
      "89\n",
      "90\n",
      "91\n",
      "92\n",
      "93\n",
      "94\n",
      "95\n",
      "96\n",
      "97\n",
      "98\n",
      "99\n",
      "100\n"
     ]
    }
   ],
   "source": [
    "for i in range (1, 101):\n",
    "    print(i)"
   ]
  },
  {
   "cell_type": "code",
   "execution_count": 61,
   "id": "92da4efa",
   "metadata": {},
   "outputs": [
    {
     "name": "stdout",
     "output_type": "stream",
     "text": [
      "1 is odd\n",
      "2 is even\n",
      "3 is odd\n",
      "4 is even\n",
      "5 is odd\n",
      "6 is even\n",
      "7 is odd\n",
      "8 is even\n",
      "9 is odd\n",
      "10 is even\n",
      "11 is odd\n",
      "12 is even\n",
      "13 is odd\n",
      "14 is even\n",
      "15 is odd\n",
      "16 is even\n",
      "17 is odd\n",
      "18 is even\n",
      "19 is odd\n",
      "20 is even\n",
      "21 is odd\n",
      "22 is even\n",
      "23 is odd\n",
      "24 is even\n",
      "25 is odd\n",
      "26 is even\n",
      "27 is odd\n",
      "28 is even\n",
      "29 is odd\n",
      "30 is even\n",
      "31 is odd\n",
      "32 is even\n",
      "33 is odd\n",
      "34 is even\n",
      "35 is odd\n",
      "36 is even\n",
      "37 is odd\n",
      "38 is even\n",
      "39 is odd\n",
      "40 is even\n",
      "41 is odd\n",
      "42 is even\n",
      "43 is odd\n",
      "44 is even\n",
      "45 is odd\n",
      "46 is even\n",
      "47 is odd\n",
      "48 is even\n",
      "49 is odd\n",
      "50 is even\n",
      "51 is odd\n",
      "52 is even\n",
      "53 is odd\n",
      "54 is even\n",
      "55 is odd\n",
      "56 is even\n",
      "57 is odd\n",
      "58 is even\n",
      "59 is odd\n",
      "60 is even\n",
      "61 is odd\n",
      "62 is even\n",
      "63 is odd\n",
      "64 is even\n",
      "65 is odd\n",
      "66 is even\n",
      "67 is odd\n",
      "68 is even\n",
      "69 is odd\n",
      "70 is even\n",
      "71 is odd\n",
      "72 is even\n",
      "73 is odd\n",
      "74 is even\n",
      "75 is odd\n",
      "76 is even\n",
      "77 is odd\n",
      "78 is even\n",
      "79 is odd\n",
      "80 is even\n",
      "81 is odd\n",
      "82 is even\n",
      "83 is odd\n",
      "84 is even\n",
      "85 is odd\n",
      "86 is even\n",
      "87 is odd\n",
      "88 is even\n",
      "89 is odd\n",
      "90 is even\n",
      "91 is odd\n",
      "92 is even\n",
      "93 is odd\n",
      "94 is even\n",
      "95 is odd\n",
      "96 is even\n",
      "97 is odd\n",
      "98 is even\n",
      "99 is odd\n",
      "100 is even\n",
      "101 is odd\n",
      "102 is even\n",
      "103 is odd\n",
      "104 is even\n",
      "105 is odd\n",
      "106 is even\n",
      "107 is odd\n",
      "108 is even\n",
      "109 is odd\n",
      "110 is even\n",
      "111 is odd\n",
      "112 is even\n",
      "113 is odd\n",
      "114 is even\n",
      "115 is odd\n",
      "116 is even\n",
      "117 is odd\n",
      "118 is even\n",
      "119 is odd\n",
      "120 is even\n",
      "121 is odd\n",
      "122 is even\n",
      "123 is odd\n",
      "124 is even\n",
      "125 is odd\n",
      "126 is even\n",
      "127 is odd\n",
      "128 is even\n",
      "129 is odd\n",
      "130 is even\n",
      "131 is odd\n",
      "132 is even\n",
      "133 is odd\n",
      "134 is even\n",
      "135 is odd\n",
      "136 is even\n",
      "137 is odd\n",
      "138 is even\n",
      "139 is odd\n",
      "140 is even\n",
      "141 is odd\n",
      "142 is even\n",
      "143 is odd\n",
      "144 is even\n",
      "145 is odd\n",
      "146 is even\n",
      "147 is odd\n",
      "148 is even\n",
      "149 is odd\n",
      "150 is even\n",
      "151 is odd\n",
      "152 is even\n",
      "153 is odd\n",
      "154 is even\n",
      "155 is odd\n",
      "156 is even\n",
      "157 is odd\n",
      "158 is even\n",
      "159 is odd\n",
      "160 is even\n",
      "161 is odd\n",
      "162 is even\n",
      "163 is odd\n",
      "164 is even\n",
      "165 is odd\n",
      "166 is even\n",
      "167 is odd\n",
      "168 is even\n",
      "169 is odd\n",
      "170 is even\n",
      "171 is odd\n",
      "172 is even\n",
      "173 is odd\n",
      "174 is even\n",
      "175 is odd\n",
      "176 is even\n",
      "177 is odd\n",
      "178 is even\n",
      "179 is odd\n",
      "180 is even\n",
      "181 is odd\n",
      "182 is even\n",
      "183 is odd\n",
      "184 is even\n",
      "185 is odd\n",
      "186 is even\n",
      "187 is odd\n",
      "188 is even\n",
      "189 is odd\n",
      "190 is even\n",
      "191 is odd\n",
      "192 is even\n",
      "193 is odd\n",
      "194 is even\n",
      "195 is odd\n",
      "196 is even\n",
      "197 is odd\n",
      "198 is even\n",
      "199 is odd\n",
      "200 is even\n",
      "201 is odd\n",
      "202 is even\n",
      "203 is odd\n",
      "204 is even\n",
      "205 is odd\n",
      "206 is even\n",
      "207 is odd\n",
      "208 is even\n",
      "209 is odd\n",
      "210 is even\n",
      "211 is odd\n",
      "212 is even\n",
      "213 is odd\n",
      "214 is even\n",
      "215 is odd\n",
      "216 is even\n",
      "217 is odd\n",
      "218 is even\n",
      "219 is odd\n",
      "220 is even\n",
      "221 is odd\n",
      "222 is even\n",
      "223 is odd\n",
      "224 is even\n",
      "225 is odd\n",
      "226 is even\n",
      "227 is odd\n",
      "228 is even\n",
      "229 is odd\n",
      "230 is even\n",
      "231 is odd\n",
      "232 is even\n",
      "233 is odd\n",
      "234 is even\n",
      "235 is odd\n",
      "236 is even\n",
      "237 is odd\n",
      "238 is even\n",
      "239 is odd\n",
      "240 is even\n",
      "241 is odd\n",
      "242 is even\n",
      "243 is odd\n",
      "244 is even\n",
      "245 is odd\n",
      "246 is even\n",
      "247 is odd\n",
      "248 is even\n",
      "249 is odd\n",
      "250 is even\n",
      "251 is odd\n",
      "252 is even\n",
      "253 is odd\n",
      "254 is even\n",
      "255 is odd\n",
      "256 is even\n",
      "257 is odd\n",
      "258 is even\n",
      "259 is odd\n",
      "260 is even\n",
      "261 is odd\n",
      "262 is even\n",
      "263 is odd\n",
      "264 is even\n",
      "265 is odd\n",
      "266 is even\n",
      "267 is odd\n",
      "268 is even\n",
      "269 is odd\n",
      "270 is even\n",
      "271 is odd\n",
      "272 is even\n",
      "273 is odd\n",
      "274 is even\n",
      "275 is odd\n",
      "276 is even\n",
      "277 is odd\n",
      "278 is even\n",
      "279 is odd\n",
      "280 is even\n",
      "281 is odd\n",
      "282 is even\n",
      "283 is odd\n",
      "284 is even\n",
      "285 is odd\n",
      "286 is even\n",
      "287 is odd\n",
      "288 is even\n",
      "289 is odd\n",
      "290 is even\n",
      "291 is odd\n",
      "292 is even\n",
      "293 is odd\n",
      "294 is even\n",
      "295 is odd\n",
      "296 is even\n",
      "297 is odd\n",
      "298 is even\n",
      "299 is odd\n",
      "300 is even\n",
      "301 is odd\n",
      "302 is even\n",
      "303 is odd\n",
      "304 is even\n",
      "305 is odd\n",
      "306 is even\n",
      "307 is odd\n",
      "308 is even\n",
      "309 is odd\n",
      "310 is even\n",
      "311 is odd\n",
      "312 is even\n",
      "313 is odd\n",
      "314 is even\n",
      "315 is odd\n",
      "316 is even\n",
      "317 is odd\n",
      "318 is even\n",
      "319 is odd\n",
      "320 is even\n",
      "321 is odd\n",
      "322 is even\n",
      "323 is odd\n",
      "324 is even\n",
      "325 is odd\n",
      "326 is even\n",
      "327 is odd\n",
      "328 is even\n",
      "329 is odd\n",
      "330 is even\n",
      "331 is odd\n",
      "332 is even\n",
      "333 is odd\n",
      "334 is even\n",
      "335 is odd\n",
      "336 is even\n",
      "337 is odd\n",
      "338 is even\n",
      "339 is odd\n",
      "340 is even\n",
      "341 is odd\n",
      "342 is even\n",
      "343 is odd\n",
      "344 is even\n",
      "345 is odd\n",
      "346 is even\n",
      "347 is odd\n",
      "348 is even\n",
      "349 is odd\n",
      "350 is even\n",
      "351 is odd\n",
      "352 is even\n",
      "353 is odd\n",
      "354 is even\n",
      "355 is odd\n",
      "356 is even\n",
      "357 is odd\n",
      "358 is even\n",
      "359 is odd\n",
      "360 is even\n",
      "361 is odd\n",
      "362 is even\n",
      "363 is odd\n",
      "364 is even\n",
      "365 is odd\n",
      "366 is even\n",
      "367 is odd\n",
      "368 is even\n",
      "369 is odd\n",
      "370 is even\n",
      "371 is odd\n",
      "372 is even\n",
      "373 is odd\n",
      "374 is even\n",
      "375 is odd\n",
      "376 is even\n",
      "377 is odd\n",
      "378 is even\n",
      "379 is odd\n",
      "380 is even\n",
      "381 is odd\n",
      "382 is even\n",
      "383 is odd\n",
      "384 is even\n",
      "385 is odd\n",
      "386 is even\n",
      "387 is odd\n",
      "388 is even\n",
      "389 is odd\n",
      "390 is even\n",
      "391 is odd\n",
      "392 is even\n",
      "393 is odd\n",
      "394 is even\n",
      "395 is odd\n",
      "396 is even\n",
      "397 is odd\n",
      "398 is even\n",
      "399 is odd\n",
      "400 is even\n",
      "401 is odd\n",
      "402 is even\n",
      "403 is odd\n",
      "404 is even\n",
      "405 is odd\n",
      "406 is even\n",
      "407 is odd\n",
      "408 is even\n",
      "409 is odd\n",
      "410 is even\n",
      "411 is odd\n",
      "412 is even\n",
      "413 is odd\n",
      "414 is even\n",
      "415 is odd\n",
      "416 is even\n",
      "417 is odd\n",
      "418 is even\n",
      "419 is odd\n",
      "420 is even\n",
      "421 is odd\n",
      "422 is even\n",
      "423 is odd\n",
      "424 is even\n",
      "425 is odd\n",
      "426 is even\n",
      "427 is odd\n",
      "428 is even\n",
      "429 is odd\n",
      "430 is even\n",
      "431 is odd\n",
      "432 is even\n",
      "433 is odd\n",
      "434 is even\n",
      "435 is odd\n",
      "436 is even\n",
      "437 is odd\n",
      "438 is even\n",
      "439 is odd\n",
      "440 is even\n",
      "441 is odd\n",
      "442 is even\n",
      "443 is odd\n",
      "444 is even\n",
      "445 is odd\n",
      "446 is even\n",
      "447 is odd\n",
      "448 is even\n",
      "449 is odd\n",
      "450 is even\n",
      "451 is odd\n",
      "452 is even\n",
      "453 is odd\n",
      "454 is even\n",
      "455 is odd\n",
      "456 is even\n",
      "457 is odd\n",
      "458 is even\n",
      "459 is odd\n",
      "460 is even\n",
      "461 is odd\n",
      "462 is even\n",
      "463 is odd\n",
      "464 is even\n",
      "465 is odd\n",
      "466 is even\n",
      "467 is odd\n",
      "468 is even\n",
      "469 is odd\n",
      "470 is even\n",
      "471 is odd\n",
      "472 is even\n",
      "473 is odd\n",
      "474 is even\n",
      "475 is odd\n",
      "476 is even\n",
      "477 is odd\n",
      "478 is even\n",
      "479 is odd\n",
      "480 is even\n",
      "481 is odd\n",
      "482 is even\n",
      "483 is odd\n",
      "484 is even\n",
      "485 is odd\n",
      "486 is even\n",
      "487 is odd\n",
      "488 is even\n",
      "489 is odd\n",
      "490 is even\n",
      "491 is odd\n",
      "492 is even\n",
      "493 is odd\n",
      "494 is even\n",
      "495 is odd\n",
      "496 is even\n",
      "497 is odd\n",
      "498 is even\n",
      "499 is odd\n",
      "500 is even\n"
     ]
    }
   ],
   "source": [
    "for i in range (1,501):\n",
    "    if i % 2 == 0:\n",
    "        print(f\"{i} is even\")\n",
    "    else:\n",
    "        print(f\"{i} is odd\")\n",
    "    "
   ]
  },
  {
   "cell_type": "code",
   "execution_count": 62,
   "id": "9c86c7f9",
   "metadata": {},
   "outputs": [
    {
     "name": "stdout",
     "output_type": "stream",
     "text": [
      "Even numbers: [2, 4, 6, 8, 10, 12, 14, 16, 18, 20, 22, 24, 26, 28, 30, 32, 34, 36, 38, 40, 42, 44, 46, 48, 50, 52, 54, 56, 58, 60, 62, 64, 66, 68, 70, 72, 74, 76, 78, 80, 82, 84, 86, 88, 90, 92, 94, 96, 98, 100]\n",
      "Odd numbers: [1, 3, 5, 7, 9, 11, 13, 15, 17, 19, 21, 23, 25, 27, 29, 31, 33, 35, 37, 39, 41, 43, 45, 47, 49, 51, 53, 55, 57, 59, 61, 63, 65, 67, 69, 71, 73, 75, 77, 79, 81, 83, 85, 87, 89, 91, 93, 95, 97, 99]\n"
     ]
    }
   ],
   "source": [
    "# This program counts from 1 to 100 and categorizes each number as even or odd\n",
    "\n",
    "even_numbers = []\n",
    "odd_numbers = []\n",
    "\n",
    "for i in range(1, 101):\n",
    "    if i % 2 == 0:\n",
    "        even_numbers.append(i)\n",
    "    else:\n",
    "        odd_numbers.append(i)\n",
    "\n",
    "print(\"Even numbers:\", even_numbers)\n",
    "print(\"Odd numbers:\", odd_numbers)\n"
   ]
  },
  {
   "cell_type": "code",
   "execution_count": 63,
   "id": "90759c30",
   "metadata": {},
   "outputs": [
    {
     "name": "stdout",
     "output_type": "stream",
     "text": [
      "[2, 4, 6, 8, 10, 12, 14, 16, 18, 20, 22, 24, 26, 28, 30, 32, 34, 36, 38, 40, 42, 44, 46, 48, 50, 52, 54, 56, 58, 60, 62, 64, 66, 68, 70, 72, 74, 76, 78, 80, 82, 84, 86, 88, 90, 92, 94, 96, 98, 100]\n",
      "[1, 3, 5, 7, 9, 11, 13, 15, 17, 19, 21, 23, 25, 27, 29, 31, 33, 35, 37, 39, 41, 43, 45, 47, 49, 51, 53, 55, 57, 59, 61, 63, 65, 67, 69, 71, 73, 75, 77, 79, 81, 83, 85, 87, 89, 91, 93, 95, 97, 99]\n"
     ]
    }
   ],
   "source": [
    "# This program counts from 1 to 100 and categorizes each number as even or odd\n",
    "\n",
    "even_numbers = []\n",
    "odd_numbers = []\n",
    "\n",
    "for i in range(1, 101):\n",
    "    if i % 2 == 0:\n",
    "        even_numbers.append(i)\n",
    "    else:\n",
    "        odd_numbers.append(i)\n",
    "\n",
    "print(even_numbers)\n",
    "print(odd_numbers)\n"
   ]
  },
  {
   "cell_type": "code",
   "execution_count": 64,
   "id": "83f655c8",
   "metadata": {},
   "outputs": [
    {
     "name": "stdout",
     "output_type": "stream",
     "text": [
      "Even numbers: [2, 4, 6, 8, 10, 12, 14, 16, 18, 20, 22, 24, 26, 28, 30, 32, 34, 36, 38, 40, 42, 44, 46, 48, 50, 52, 54, 56, 58, 60, 62, 64, 66, 68, 70, 72, 74, 76, 78, 80, 82, 84, 86, 88, 90, 92, 94, 96, 98, 100]\n",
      "Odd numbers: [1, 3, 5, 7, 9, 11, 13, 15, 17, 19, 21, 23, 25, 27, 29, 31, 33, 35, 37, 39, 41, 43, 45, 47, 49, 51, 53, 55, 57, 59, 61, 63, 65, 67, 69, 71, 73, 75, 77, 79, 81, 83, 85, 87, 89, 91, 93, 95, 97, 99]\n"
     ]
    }
   ],
   "source": [
    "even_numbers = []\n",
    "odd_numbers = []\n",
    "for i in range(1, 101):\n",
    "    if i % 2 == 0:\n",
    "        even_numbers.append(i)\n",
    "    else:\n",
    "        odd_numbers.append(i)\n",
    "print(\"Even numbers:\", even_numbers)\n",
    "print(\"Odd numbers:\", odd_numbers)\n",
    "        "
   ]
  },
  {
   "cell_type": "code",
   "execution_count": 65,
   "id": "cf4b2446",
   "metadata": {},
   "outputs": [
    {
     "name": "stdout",
     "output_type": "stream",
     "text": [
      "Even Numbers: [2, 4, 6, 8, 10, 12, 14, 16, 18, 20, 22, 24, 26, 28, 30, 32, 34, 36, 38, 40, 42, 44, 46, 48, 50, 52, 54, 56, 58, 60, 62, 64, 66, 68, 70, 72, 74, 76, 78, 80, 82, 84, 86, 88, 90, 92, 94, 96, 98, 100]\n",
      "Odd Numbers: [1, 3, 5, 7, 9, 11, 13, 15, 17, 19, 21, 23, 25, 27, 29, 31, 33, 35, 37, 39, 41, 43, 45, 47, 49, 51, 53, 55, 57, 59, 61, 63, 65, 67, 69, 71, 73, 75, 77, 79, 81, 83, 85, 87, 89, 91, 93, 95, 97, 99]\n"
     ]
    }
   ],
   "source": [
    "even_numbers = []\n",
    "odd_numbers = []\n",
    "for i in range (1, 101):\n",
    "    if i % 2 == 0:\n",
    "        even_numbers.append(i)\n",
    "    else:\n",
    "        odd_numbers.append(i)\n",
    "print(\"Even Numbers:\", even_numbers)\n",
    "print(\"Odd Numbers:\", odd_numbers)\n"
   ]
  },
  {
   "cell_type": "code",
   "execution_count": 66,
   "id": "91864d52",
   "metadata": {},
   "outputs": [
    {
     "name": "stdout",
     "output_type": "stream",
     "text": [
      "Even Numbers Square: [4, 16, 36, 64, 100, 144, 196, 256, 324, 400, 484, 576, 676, 784, 900, 1024, 1156, 1296, 1444, 1600, 1764, 1936, 2116, 2304, 2500, 2704, 2916, 3136, 3364, 3600, 3844, 4096, 4356, 4624, 4900, 5184, 5476, 5776, 6084, 6400, 6724, 7056, 7396, 7744, 8100, 8464, 8836, 9216, 9604, 10000]\n",
      "Odd Numbers Cube: [1, 27, 125, 343, 729, 1331, 2197, 3375, 4913, 6859, 9261, 12167, 15625, 19683, 24389, 29791, 35937, 42875, 50653, 59319, 68921, 79507, 91125, 103823, 117649, 132651, 148877, 166375, 185193, 205379, 226981, 250047, 274625, 300763, 328509, 357911, 389017, 421875, 456533, 493039, 531441, 571787, 614125, 658503, 704969, 753571, 804357, 857375, 912673, 970299]\n"
     ]
    }
   ],
   "source": [
    "even_numbers_square = []\n",
    "odd_numbers_cube = []\n",
    "for i in range (1, 101):\n",
    "    if i % 2 == 0:\n",
    "        square = i ** 2\n",
    "        even_numbers_square.append(square)\n",
    "    else:\n",
    "        cube = i ** 3\n",
    "        odd_numbers_cube.append(cube)\n",
    "        \n",
    "print(\"Even Numbers Square:\", even_numbers_square)\n",
    "print(\"Odd Numbers Cube:\", odd_numbers_cube)"
   ]
  },
  {
   "cell_type": "code",
   "execution_count": 67,
   "id": "9a88bde2",
   "metadata": {},
   "outputs": [
    {
     "name": "stdout",
     "output_type": "stream",
     "text": [
      "Even Number Square: [4, 16, 36, 64, 100]\n",
      "Odd Number Square: [1, 27, 125, 343, 729]\n"
     ]
    }
   ],
   "source": [
    "even_number_square = []\n",
    "odd_number_cube = []\n",
    "for i in range (1,11):\n",
    "    if i % 2 == 0:\n",
    "        square = i ** 2\n",
    "        even_number_square.append(square)\n",
    "    else:\n",
    "        cube = i ** 3\n",
    "        odd_number_cube.append(cube)\n",
    "print (\"Even Number Square:\", even_number_square)\n",
    "print (\"Odd Number Square:\", odd_number_cube)\n",
    "    "
   ]
  },
  {
   "cell_type": "code",
   "execution_count": 69,
   "id": "cc028ff5",
   "metadata": {},
   "outputs": [
    {
     "name": "stdout",
     "output_type": "stream",
     "text": [
      "Dictionary: {'apple': 1, 'berry': 2, 'cajo': 3, 'date': 4, 'elaichi': 5}\n"
     ]
    }
   ],
   "source": [
    "my_dict = { \"apple\": 1, \"berry\": 2, \"cajo\": 3, \"date\": 4, \"elaichi\": 5 }\n",
    "\n",
    "print(\"Dictionary:\", my_dict)"
   ]
  },
  {
   "cell_type": "code",
   "execution_count": 70,
   "id": "0c808de0",
   "metadata": {},
   "outputs": [
    {
     "name": "stdout",
     "output_type": "stream",
     "text": [
      "Dictionary keys Set: {'cajo', 'elaichi', 'apple', 'date', 'berry'}\n"
     ]
    }
   ],
   "source": [
    "my_dict_keys_set = set(my_dict.keys())\n",
    "print(\"Dictionary keys Set:\", my_dict_keys_set)"
   ]
  },
  {
   "cell_type": "code",
   "execution_count": 73,
   "id": "2a05ffaf",
   "metadata": {},
   "outputs": [
    {
     "name": "stdout",
     "output_type": "stream",
     "text": [
      "Dictionary Values Set: {1, 2, 3, 4, 5}\n"
     ]
    }
   ],
   "source": [
    "my_dict_values_set = set(my_dict.values())\n",
    "print (\"Dictionary Values Set:\", my_dict_values_set)"
   ]
  },
  {
   "cell_type": "code",
   "execution_count": 74,
   "id": "b69ad1ea",
   "metadata": {},
   "outputs": [
    {
     "name": "stdout",
     "output_type": "stream",
     "text": [
      "Dictionary Keys List: ['apple', 'berry', 'cajo', 'date', 'elaichi']\n"
     ]
    }
   ],
   "source": [
    "my_dict_keys_list = list (my_dict.keys())\n",
    "print (\"Dictionary Keys List:\", my_dict_keys_list)"
   ]
  },
  {
   "cell_type": "code",
   "execution_count": 75,
   "id": "58f21fe9",
   "metadata": {},
   "outputs": [
    {
     "name": "stdout",
     "output_type": "stream",
     "text": [
      "Dictionary Values List: [1, 2, 3, 4, 5]\n"
     ]
    }
   ],
   "source": [
    "my_dict_values_list = list (my_dict.values())\n",
    "print(\"Dictionary Values List:\", my_dict_values_list)"
   ]
  },
  {
   "cell_type": "code",
   "execution_count": 76,
   "id": "ed1e5168",
   "metadata": {
    "scrolled": true
   },
   "outputs": [
    {
     "name": "stdout",
     "output_type": "stream",
     "text": [
      "Dictionary Item List: [('apple', 1), ('berry', 2), ('cajo', 3), ('date', 4), ('elaichi', 5)]\n"
     ]
    }
   ],
   "source": [
    "my_dict_item_list = list (my_dict.items())\n",
    "print(\"Dictionary Item List:\",my_dict_item_list)"
   ]
  },
  {
   "cell_type": "code",
   "execution_count": null,
   "id": "54500dd8",
   "metadata": {},
   "outputs": [],
   "source": []
  }
 ],
 "metadata": {
  "kernelspec": {
   "display_name": "Python 3 (ipykernel)",
   "language": "python",
   "name": "python3"
  },
  "language_info": {
   "codemirror_mode": {
    "name": "ipython",
    "version": 3
   },
   "file_extension": ".py",
   "mimetype": "text/x-python",
   "name": "python",
   "nbconvert_exporter": "python",
   "pygments_lexer": "ipython3",
   "version": "3.11.5"
  }
 },
 "nbformat": 4,
 "nbformat_minor": 5
}
